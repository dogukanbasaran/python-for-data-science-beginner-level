{
 "cells": [
  {
   "cell_type": "markdown",
   "id": "6a1e3ac5-d592-431e-8876-a70e098c2e51",
   "metadata": {
    "jp-MarkdownHeadingCollapsed": true
   },
   "source": [
    "### Variables"
   ]
  },
  {
   "cell_type": "code",
   "execution_count": 14,
   "id": "4663b0b6-ce74-4002-a973-db2fbe94910a",
   "metadata": {},
   "outputs": [],
   "source": [
    "text = \"Python for Data Science\""
   ]
  },
  {
   "cell_type": "code",
   "execution_count": 18,
   "id": "3031b3ce-35fa-4625-bc03-4c222c20178d",
   "metadata": {},
   "outputs": [
    {
     "data": {
      "text/plain": [
       "'Python for Data Science'"
      ]
     },
     "execution_count": 18,
     "metadata": {},
     "output_type": "execute_result"
    }
   ],
   "source": [
    "text"
   ]
  },
  {
   "cell_type": "code",
   "execution_count": 22,
   "id": "02054e1e-2b29-44b3-83ff-0c261a45a5c4",
   "metadata": {},
   "outputs": [],
   "source": [
    "text_2 = \"Learning Python is actually fun!\""
   ]
  },
  {
   "cell_type": "code",
   "execution_count": 24,
   "id": "52991760-705f-4c0f-a08a-ea290a717486",
   "metadata": {},
   "outputs": [
    {
     "data": {
      "text/plain": [
       "'Learning Python is actually fun!'"
      ]
     },
     "execution_count": 24,
     "metadata": {},
     "output_type": "execute_result"
    }
   ],
   "source": [
    "text_2"
   ]
  },
  {
   "cell_type": "code",
   "execution_count": 32,
   "id": "9f5b4ab8-99d4-4fdc-90d2-f8b17f60f833",
   "metadata": {},
   "outputs": [
    {
     "data": {
      "text/plain": [
       "'Python for Data Science, Learning Python is actually fun!'"
      ]
     },
     "execution_count": 32,
     "metadata": {},
     "output_type": "execute_result"
    }
   ],
   "source": [
    "text + \", \" + text_2"
   ]
  },
  {
   "cell_type": "code",
   "execution_count": 36,
   "id": "ae92a5db-ebf2-483b-86a4-422cdbe24e4e",
   "metadata": {},
   "outputs": [
    {
     "data": {
      "text/plain": [
       "'Python for Data Science, Learning Python is actually fun!'"
      ]
     },
     "execution_count": 36,
     "metadata": {},
     "output_type": "execute_result"
    }
   ],
   "source": [
    "f\"{text}, {text_2}\""
   ]
  },
  {
   "cell_type": "markdown",
   "id": "081b103d-6e74-41c4-9911-128d37c6189e",
   "metadata": {
    "jp-MarkdownHeadingCollapsed": true
   },
   "source": [
    "### List"
   ]
  },
  {
   "cell_type": "code",
   "execution_count": 175,
   "id": "8e61d151-92c5-485b-a951-b53cf7fc8b54",
   "metadata": {},
   "outputs": [],
   "source": [
    "students = [\"Doğukan\", \"Atakan\", \"Hazal Asu\", \"Ekinsu\", \"Berke Kaan\", \n",
    "            \"Ece Dilara\", \"Berker\", \"Yavuzhan\", \"Buse\", \"Nadide\", \n",
    "            \"Muhammed Ali\", \"Muhammed Emin\", \"Ensar Emin\"]"
   ]
  },
  {
   "cell_type": "code",
   "execution_count": 177,
   "id": "ef765128-5e5e-40e5-9cd6-93b42a674037",
   "metadata": {},
   "outputs": [
    {
     "data": {
      "text/plain": [
       "['Doğukan',\n",
       " 'Atakan',\n",
       " 'Hazal Asu',\n",
       " 'Ekinsu',\n",
       " 'Berke Kaan',\n",
       " 'Ece Dilara',\n",
       " 'Berker',\n",
       " 'Yavuzhan',\n",
       " 'Buse',\n",
       " 'Nadide',\n",
       " 'Muhammed Ali',\n",
       " 'Muhammed Emin',\n",
       " 'Ensar Emin']"
      ]
     },
     "execution_count": 177,
     "metadata": {},
     "output_type": "execute_result"
    }
   ],
   "source": [
    "students"
   ]
  },
  {
   "cell_type": "code",
   "execution_count": 179,
   "id": "cf71aa70-501b-4995-a888-81270ee30443",
   "metadata": {},
   "outputs": [
    {
     "data": {
      "text/plain": [
       "'Doğukan'"
      ]
     },
     "execution_count": 179,
     "metadata": {},
     "output_type": "execute_result"
    }
   ],
   "source": [
    "students[0]"
   ]
  },
  {
   "cell_type": "code",
   "execution_count": 181,
   "id": "27e2e82b-4c13-4805-87c0-dba1e8ea426a",
   "metadata": {},
   "outputs": [
    {
     "data": {
      "text/plain": [
       "'Ensar Emin'"
      ]
     },
     "execution_count": 181,
     "metadata": {},
     "output_type": "execute_result"
    }
   ],
   "source": [
    "students[-1]"
   ]
  },
  {
   "cell_type": "code",
   "execution_count": 183,
   "id": "df76ec14-d63c-4bd7-984f-8b419d6b05a6",
   "metadata": {},
   "outputs": [
    {
     "data": {
      "text/plain": [
       "['Doğukan', 'Atakan', 'Hazal Asu']"
      ]
     },
     "execution_count": 183,
     "metadata": {},
     "output_type": "execute_result"
    }
   ],
   "source": [
    "students[0:3]"
   ]
  },
  {
   "cell_type": "code",
   "execution_count": 185,
   "id": "7288971e-cb06-429f-80ad-563dd392a5ac",
   "metadata": {},
   "outputs": [
    {
     "data": {
      "text/plain": [
       "['Ekinsu', 'Berke Kaan', 'Ece Dilara', 'Berker']"
      ]
     },
     "execution_count": 185,
     "metadata": {},
     "output_type": "execute_result"
    }
   ],
   "source": [
    "students[3:7]"
   ]
  },
  {
   "cell_type": "code",
   "execution_count": 187,
   "id": "8fd2a15f-9a15-4274-adde-30c52fe47b37",
   "metadata": {},
   "outputs": [
    {
     "data": {
      "text/plain": [
       "'Yavuzhan and Muhammed Ali'"
      ]
     },
     "execution_count": 187,
     "metadata": {},
     "output_type": "execute_result"
    }
   ],
   "source": [
    "students[7] + \" and \" + students[10]"
   ]
  },
  {
   "cell_type": "markdown",
   "id": "99996370-67ba-446b-a57e-d563f89a880b",
   "metadata": {
    "jp-MarkdownHeadingCollapsed": true
   },
   "source": [
    "#### Adding elements to a list"
   ]
  },
  {
   "cell_type": "code",
   "execution_count": 190,
   "id": "e2b9e5ae-8856-46a6-b28b-7f56021f9c1b",
   "metadata": {},
   "outputs": [],
   "source": [
    "students.append(\"Samet Eren\")"
   ]
  },
  {
   "cell_type": "code",
   "execution_count": 192,
   "id": "790c9bea-3e2a-4a0e-bf6d-f29925e26f20",
   "metadata": {},
   "outputs": [
    {
     "data": {
      "text/plain": [
       "['Doğukan',\n",
       " 'Atakan',\n",
       " 'Hazal Asu',\n",
       " 'Ekinsu',\n",
       " 'Berke Kaan',\n",
       " 'Ece Dilara',\n",
       " 'Berker',\n",
       " 'Yavuzhan',\n",
       " 'Buse',\n",
       " 'Nadide',\n",
       " 'Muhammed Ali',\n",
       " 'Muhammed Emin',\n",
       " 'Ensar Emin',\n",
       " 'Samet Eren']"
      ]
     },
     "execution_count": 192,
     "metadata": {},
     "output_type": "execute_result"
    }
   ],
   "source": [
    "students"
   ]
  },
  {
   "cell_type": "code",
   "execution_count": 194,
   "id": "89f972ae-546c-4d7b-a079-1dfe366df48e",
   "metadata": {},
   "outputs": [],
   "source": [
    "students.insert(-1, \"Sezer Can\")"
   ]
  },
  {
   "cell_type": "code",
   "execution_count": 196,
   "id": "49fa69ed-a7ba-4dc7-bc07-be45ee0bed7b",
   "metadata": {},
   "outputs": [
    {
     "data": {
      "text/plain": [
       "['Doğukan',\n",
       " 'Atakan',\n",
       " 'Hazal Asu',\n",
       " 'Ekinsu',\n",
       " 'Berke Kaan',\n",
       " 'Ece Dilara',\n",
       " 'Berker',\n",
       " 'Yavuzhan',\n",
       " 'Buse',\n",
       " 'Nadide',\n",
       " 'Muhammed Ali',\n",
       " 'Muhammed Emin',\n",
       " 'Ensar Emin',\n",
       " 'Sezer Can',\n",
       " 'Samet Eren']"
      ]
     },
     "execution_count": 196,
     "metadata": {},
     "output_type": "execute_result"
    }
   ],
   "source": [
    "students"
   ]
  },
  {
   "cell_type": "code",
   "execution_count": 198,
   "id": "83fb0c3a-a7d4-4b96-96b2-da4fb0aaa5df",
   "metadata": {},
   "outputs": [],
   "source": [
    "students.insert(-1, \"Berkan\")"
   ]
  },
  {
   "cell_type": "code",
   "execution_count": 200,
   "id": "8c28afe9-2dda-463e-89bb-f4e48707e6d0",
   "metadata": {},
   "outputs": [
    {
     "data": {
      "text/plain": [
       "['Doğukan',\n",
       " 'Atakan',\n",
       " 'Hazal Asu',\n",
       " 'Ekinsu',\n",
       " 'Berke Kaan',\n",
       " 'Ece Dilara',\n",
       " 'Berker',\n",
       " 'Yavuzhan',\n",
       " 'Buse',\n",
       " 'Nadide',\n",
       " 'Muhammed Ali',\n",
       " 'Muhammed Emin',\n",
       " 'Ensar Emin',\n",
       " 'Sezer Can',\n",
       " 'Berkan',\n",
       " 'Samet Eren']"
      ]
     },
     "execution_count": 200,
     "metadata": {},
     "output_type": "execute_result"
    }
   ],
   "source": [
    "students"
   ]
  },
  {
   "cell_type": "code",
   "execution_count": 202,
   "id": "8f8e9b47-af1e-4e0a-aa1a-a9bbea960fbd",
   "metadata": {},
   "outputs": [],
   "source": [
    "students_2 = [\"Esin\", \"Sıla\"]"
   ]
  },
  {
   "cell_type": "code",
   "execution_count": 204,
   "id": "196eec2c-29fa-4281-8db2-dd82c6606b54",
   "metadata": {},
   "outputs": [
    {
     "data": {
      "text/plain": [
       "['Doğukan',\n",
       " 'Atakan',\n",
       " 'Hazal Asu',\n",
       " 'Ekinsu',\n",
       " 'Berke Kaan',\n",
       " 'Ece Dilara',\n",
       " 'Berker',\n",
       " 'Yavuzhan',\n",
       " 'Buse',\n",
       " 'Nadide',\n",
       " 'Muhammed Ali',\n",
       " 'Muhammed Emin',\n",
       " 'Ensar Emin',\n",
       " 'Sezer Can',\n",
       " 'Berkan',\n",
       " 'Samet Eren',\n",
       " 'Esin',\n",
       " 'Sıla']"
      ]
     },
     "execution_count": 204,
     "metadata": {},
     "output_type": "execute_result"
    }
   ],
   "source": [
    "students + students_2"
   ]
  },
  {
   "cell_type": "code",
   "execution_count": 206,
   "id": "74d03a07-43a1-4da5-978a-2f52bad1444c",
   "metadata": {},
   "outputs": [],
   "source": [
    "nested_list = [students, students_2]"
   ]
  },
  {
   "cell_type": "code",
   "execution_count": 208,
   "id": "c2a86cc5-1ad7-48f0-8e40-741ee1c52201",
   "metadata": {},
   "outputs": [
    {
     "data": {
      "text/plain": [
       "[['Doğukan',\n",
       "  'Atakan',\n",
       "  'Hazal Asu',\n",
       "  'Ekinsu',\n",
       "  'Berke Kaan',\n",
       "  'Ece Dilara',\n",
       "  'Berker',\n",
       "  'Yavuzhan',\n",
       "  'Buse',\n",
       "  'Nadide',\n",
       "  'Muhammed Ali',\n",
       "  'Muhammed Emin',\n",
       "  'Ensar Emin',\n",
       "  'Sezer Can',\n",
       "  'Berkan',\n",
       "  'Samet Eren'],\n",
       " ['Esin', 'Sıla']]"
      ]
     },
     "execution_count": 208,
     "metadata": {},
     "output_type": "execute_result"
    }
   ],
   "source": [
    "nested_list"
   ]
  },
  {
   "cell_type": "markdown",
   "id": "674b580a-a369-4958-8a35-3b15711b7f02",
   "metadata": {
    "jp-MarkdownHeadingCollapsed": true
   },
   "source": [
    "#### Removing an elements"
   ]
  },
  {
   "cell_type": "code",
   "execution_count": 210,
   "id": "1187bbb0-0862-491d-b465-68633c8ff155",
   "metadata": {},
   "outputs": [
    {
     "data": {
      "text/plain": [
       "['Doğukan',\n",
       " 'Atakan',\n",
       " 'Hazal Asu',\n",
       " 'Ekinsu',\n",
       " 'Berke Kaan',\n",
       " 'Ece Dilara',\n",
       " 'Berker',\n",
       " 'Yavuzhan',\n",
       " 'Buse',\n",
       " 'Nadide',\n",
       " 'Muhammed Ali',\n",
       " 'Muhammed Emin',\n",
       " 'Ensar Emin',\n",
       " 'Sezer Can',\n",
       " 'Berkan',\n",
       " 'Samet Eren']"
      ]
     },
     "execution_count": 210,
     "metadata": {},
     "output_type": "execute_result"
    }
   ],
   "source": [
    "students"
   ]
  },
  {
   "cell_type": "code",
   "execution_count": 211,
   "id": "772f59fb-8e79-47d2-aca1-671d1d4071ef",
   "metadata": {},
   "outputs": [
    {
     "data": {
      "text/plain": [
       "['Doğukan',\n",
       " 'Atakan',\n",
       " 'Hazal Asu',\n",
       " 'Ekinsu',\n",
       " 'Berke Kaan',\n",
       " 'Ece Dilara',\n",
       " 'Berker',\n",
       " 'Yavuzhan',\n",
       " 'Buse',\n",
       " 'Nadide',\n",
       " 'Muhammed Ali',\n",
       " 'Muhammed Emin',\n",
       " 'Ensar Emin',\n",
       " 'Sezer Can',\n",
       " 'Berkan']"
      ]
     },
     "execution_count": 211,
     "metadata": {},
     "output_type": "execute_result"
    }
   ],
   "source": [
    "students.remove(\"Samet Eren\")\n",
    "students"
   ]
  },
  {
   "cell_type": "code",
   "execution_count": 212,
   "id": "6506c62a-93cd-43d2-ba1b-9046a2524c4a",
   "metadata": {},
   "outputs": [
    {
     "data": {
      "text/plain": [
       "['Doğukan',\n",
       " 'Atakan',\n",
       " 'Hazal Asu',\n",
       " 'Ekinsu',\n",
       " 'Berke Kaan',\n",
       " 'Ece Dilara',\n",
       " 'Berker',\n",
       " 'Yavuzhan',\n",
       " 'Buse',\n",
       " 'Nadide',\n",
       " 'Muhammed Ali',\n",
       " 'Muhammed Emin',\n",
       " 'Ensar Emin',\n",
       " 'Sezer Can']"
      ]
     },
     "execution_count": 212,
     "metadata": {},
     "output_type": "execute_result"
    }
   ],
   "source": [
    "students.pop()\n",
    "students"
   ]
  },
  {
   "cell_type": "code",
   "execution_count": 213,
   "id": "a7fdbc82-7f05-404f-b6b3-4a7ec0aa69d6",
   "metadata": {},
   "outputs": [
    {
     "data": {
      "text/plain": [
       "['Doğukan',\n",
       " 'Atakan',\n",
       " 'Hazal Asu',\n",
       " 'Ekinsu',\n",
       " 'Berke Kaan',\n",
       " 'Ece Dilara',\n",
       " 'Berker',\n",
       " 'Yavuzhan',\n",
       " 'Buse',\n",
       " 'Nadide',\n",
       " 'Muhammed Ali',\n",
       " 'Muhammed Emin',\n",
       " 'Ensar Emin']"
      ]
     },
     "execution_count": 213,
     "metadata": {},
     "output_type": "execute_result"
    }
   ],
   "source": [
    "students.pop(-1)\n",
    "students"
   ]
  },
  {
   "cell_type": "code",
   "execution_count": 214,
   "id": "2c873854-f38c-4e5e-b84d-a291420010f4",
   "metadata": {},
   "outputs": [
    {
     "data": {
      "text/plain": [
       "['Sıla']"
      ]
     },
     "execution_count": 214,
     "metadata": {},
     "output_type": "execute_result"
    }
   ],
   "source": [
    "del students_2[0]\n",
    "students_2"
   ]
  },
  {
   "cell_type": "markdown",
   "id": "909b38f5-f1da-49a5-aa1e-7fc1e9c16c36",
   "metadata": {
    "jp-MarkdownHeadingCollapsed": true
   },
   "source": [
    "#### Sorting a list"
   ]
  },
  {
   "cell_type": "code",
   "execution_count": 216,
   "id": "e00fcec4-e88a-4077-b2a4-dfc193ed5c89",
   "metadata": {},
   "outputs": [],
   "source": [
    "numbers = [4, 6, 8, 1, 3, -6, 7, 11, 2, 5]"
   ]
  },
  {
   "cell_type": "code",
   "execution_count": 217,
   "id": "394dcf51-9466-469d-847c-6159b6e962e7",
   "metadata": {},
   "outputs": [],
   "source": [
    "numbers.sort()"
   ]
  },
  {
   "cell_type": "code",
   "execution_count": 218,
   "id": "c1aa75cc-f29f-40c9-9004-63ab1e9a34c4",
   "metadata": {},
   "outputs": [
    {
     "data": {
      "text/plain": [
       "[-6, 1, 2, 3, 4, 5, 6, 7, 8, 11]"
      ]
     },
     "execution_count": 218,
     "metadata": {},
     "output_type": "execute_result"
    }
   ],
   "source": [
    "numbers"
   ]
  },
  {
   "cell_type": "code",
   "execution_count": 219,
   "id": "7bc763e6-9de9-4bfe-a843-20b940face6c",
   "metadata": {},
   "outputs": [
    {
     "data": {
      "text/plain": [
       "[11, 8, 7, 6, 5, 4, 3, 2, 1, -6]"
      ]
     },
     "execution_count": 219,
     "metadata": {},
     "output_type": "execute_result"
    }
   ],
   "source": [
    "numbers.sort(reverse=True)\n",
    "numbers"
   ]
  },
  {
   "cell_type": "markdown",
   "id": "7084cdd8-f1a7-4517-8ed3-cf9f022cadea",
   "metadata": {
    "jp-MarkdownHeadingCollapsed": true
   },
   "source": [
    "#### Updating an element"
   ]
  },
  {
   "cell_type": "code",
   "execution_count": 221,
   "id": "d82cbab2-bf4c-4638-b76b-e8ae53c937fa",
   "metadata": {},
   "outputs": [
    {
     "data": {
      "text/plain": [
       "[1000, 8, 7, 6, 5, 4, 3, 2, 1, -6]"
      ]
     },
     "execution_count": 221,
     "metadata": {},
     "output_type": "execute_result"
    }
   ],
   "source": [
    "numbers[0] = 1000\n",
    "numbers"
   ]
  },
  {
   "cell_type": "markdown",
   "id": "c672fcfa-4f15-4f4c-8b96-0a54a747ea2d",
   "metadata": {
    "jp-MarkdownHeadingCollapsed": true
   },
   "source": [
    "#### Copying a list"
   ]
  },
  {
   "cell_type": "code",
   "execution_count": 223,
   "id": "a0e83840-8266-4350-9d2b-9a76b46ce200",
   "metadata": {},
   "outputs": [],
   "source": [
    "siblings = students[0:3].copy()"
   ]
  },
  {
   "cell_type": "code",
   "execution_count": 224,
   "id": "150b8c66-cdff-4054-a63e-d9d61dea2730",
   "metadata": {},
   "outputs": [
    {
     "data": {
      "text/plain": [
       "['Doğukan', 'Atakan', 'Hazal Asu']"
      ]
     },
     "execution_count": 224,
     "metadata": {},
     "output_type": "execute_result"
    }
   ],
   "source": [
    "siblings"
   ]
  },
  {
   "cell_type": "code",
   "execution_count": 225,
   "id": "c6386973-c0c8-4a6c-8a2f-c842a08ff5fb",
   "metadata": {},
   "outputs": [],
   "source": [
    "siblings_2 = students[3:5]"
   ]
  },
  {
   "cell_type": "code",
   "execution_count": 227,
   "id": "d3682c12-2771-4364-9280-02539dd83098",
   "metadata": {},
   "outputs": [
    {
     "data": {
      "text/plain": [
       "['Ekinsu', 'Berke Kaan']"
      ]
     },
     "execution_count": 227,
     "metadata": {},
     "output_type": "execute_result"
    }
   ],
   "source": [
    "siblings_2"
   ]
  },
  {
   "cell_type": "markdown",
   "id": "80079874-cf05-4548-ba41-85dd1ed5aaf6",
   "metadata": {
    "jp-MarkdownHeadingCollapsed": true
   },
   "source": [
    "### Dictionary"
   ]
  },
  {
   "cell_type": "code",
   "execution_count": 258,
   "id": "3f38f7aa-54ff-4db4-a5f5-c8639dca1725",
   "metadata": {},
   "outputs": [],
   "source": [
    "employees = {\n",
    "    'names': [\"Doğukan\", \"Ekinsu\", \"Yavuzhan\", \"Buse\", \"Nadide\"],\n",
    "    'salaries': [50000, 40000, 25000, 22500, 22500],\n",
    "}"
   ]
  },
  {
   "cell_type": "code",
   "execution_count": 264,
   "id": "d68cec4b-ed31-4280-a360-f846c39937bc",
   "metadata": {},
   "outputs": [
    {
     "data": {
      "text/plain": [
       "dict_keys(['names', 'salaries'])"
      ]
     },
     "execution_count": 264,
     "metadata": {},
     "output_type": "execute_result"
    }
   ],
   "source": [
    "employees.keys()"
   ]
  },
  {
   "cell_type": "code",
   "execution_count": 266,
   "id": "82bba341-1b49-4e4a-9558-90331f7b41c4",
   "metadata": {},
   "outputs": [
    {
     "data": {
      "text/plain": [
       "dict_values([['Doğukan', 'Ekinsu', 'Yavuzhan', 'Buse', 'Nadide'], [50000, 40000, 25000, 22500, 22500]])"
      ]
     },
     "execution_count": 266,
     "metadata": {},
     "output_type": "execute_result"
    }
   ],
   "source": [
    "employees.values()"
   ]
  },
  {
   "cell_type": "code",
   "execution_count": 268,
   "id": "160efa5e-9093-4592-a5c3-ef912cf3802d",
   "metadata": {},
   "outputs": [],
   "source": [
    "employees[\"departments\"] = [\"IT\", \"HR\", \"IT\", \"HR\", \"CS\"]"
   ]
  },
  {
   "cell_type": "code",
   "execution_count": 270,
   "id": "cded0296-12b5-46a7-9a68-1bb4e6362d9e",
   "metadata": {},
   "outputs": [
    {
     "data": {
      "text/plain": [
       "{'names': ['Doğukan', 'Ekinsu', 'Yavuzhan', 'Buse', 'Nadide'],\n",
       " 'salaries': [50000, 40000, 25000, 22500, 22500],\n",
       " 'departments': ['IT', 'HR', 'IT', 'HR', 'CS']}"
      ]
     },
     "execution_count": 270,
     "metadata": {},
     "output_type": "execute_result"
    }
   ],
   "source": [
    "employees"
   ]
  },
  {
   "cell_type": "code",
   "execution_count": 272,
   "id": "2799c742-eb32-4bd8-bc7e-5098776c7235",
   "metadata": {},
   "outputs": [],
   "source": [
    "#employees.update({names})"
   ]
  },
  {
   "cell_type": "markdown",
   "id": "60242fdf-ee2f-4d76-8b38-f7c0d6f20aed",
   "metadata": {},
   "source": [
    "#### Copying a dictionary"
   ]
  },
  {
   "cell_type": "code",
   "execution_count": 277,
   "id": "71fb0312-91cf-4a43-a855-e17f5aae9473",
   "metadata": {},
   "outputs": [
    {
     "data": {
      "text/plain": [
       "{'names': ['Doğukan', 'Ekinsu', 'Yavuzhan', 'Buse', 'Nadide'],\n",
       " 'salaries': [50000, 40000, 25000, 22500, 22500],\n",
       " 'departments': ['IT', 'HR', 'IT', 'HR', 'CS']}"
      ]
     },
     "execution_count": 277,
     "metadata": {},
     "output_type": "execute_result"
    }
   ],
   "source": [
    "employees_new = employees.copy()\n",
    "employees_new"
   ]
  },
  {
   "cell_type": "markdown",
   "id": "92b8118f-0064-49af-855a-b0f686a2d717",
   "metadata": {},
   "source": [
    "#### Removing Element"
   ]
  },
  {
   "cell_type": "code",
   "execution_count": 284,
   "id": "9b8c80ea-8843-42ba-9b46-b603976c0f6a",
   "metadata": {},
   "outputs": [
    {
     "data": {
      "text/plain": [
       "{'names': ['Doğukan', 'Ekinsu', 'Yavuzhan', 'Buse', 'Nadide'],\n",
       " 'salaries': [50000, 40000, 25000, 22500, 22500]}"
      ]
     },
     "execution_count": 284,
     "metadata": {},
     "output_type": "execute_result"
    }
   ],
   "source": [
    "employees.pop(\"departments\")\n",
    "employees"
   ]
  },
  {
   "cell_type": "code",
   "execution_count": 290,
   "id": "b71b2fb0-254e-44ee-96f8-b1807c4e6537",
   "metadata": {},
   "outputs": [
    {
     "data": {
      "text/plain": [
       "{'names': ['Doğukan', 'Ekinsu', 'Yavuzhan', 'Buse', 'Nadide']}"
      ]
     },
     "execution_count": 290,
     "metadata": {},
     "output_type": "execute_result"
    }
   ],
   "source": [
    "del employees[\"salaries\"]\n",
    "employees"
   ]
  },
  {
   "cell_type": "markdown",
   "id": "fa6ed0cb-b602-40fc-8901-24c846c357c7",
   "metadata": {
    "jp-MarkdownHeadingCollapsed": true
   },
   "source": [
    "### If Statement"
   ]
  },
  {
   "cell_type": "code",
   "execution_count": 315,
   "id": "237ee8cc-f778-4747-90a0-0b0453989941",
   "metadata": {},
   "outputs": [],
   "source": [
    "age = 25"
   ]
  },
  {
   "cell_type": "code",
   "execution_count": 317,
   "id": "65e08809-1ab0-4a12-9275-d5491bf60695",
   "metadata": {},
   "outputs": [
    {
     "name": "stdout",
     "output_type": "stream",
     "text": [
      "You are an adult\n"
     ]
    }
   ],
   "source": [
    "if age >= 18:\n",
    "    print(\"You are an adult\")\n",
    "elif age >= 13:\n",
    "    print(\"You are a teenager\")\n",
    "else:\n",
    "    print(\"You are a kid\")"
   ]
  },
  {
   "cell_type": "markdown",
   "id": "e1860f1d-af3c-4a87-a9fd-d6fcb8fda74e",
   "metadata": {
    "jp-MarkdownHeadingCollapsed": true
   },
   "source": [
    "### For Loop"
   ]
  },
  {
   "cell_type": "code",
   "execution_count": 320,
   "id": "831ccf2c-9740-4116-b4af-5afd39ed511f",
   "metadata": {},
   "outputs": [
    {
     "data": {
      "text/plain": [
       "['Doğukan',\n",
       " 'Atakan',\n",
       " 'Hazal Asu',\n",
       " 'Ekinsu',\n",
       " 'Berke Kaan',\n",
       " 'Ece Dilara',\n",
       " 'Berker',\n",
       " 'Yavuzhan',\n",
       " 'Buse',\n",
       " 'Nadide',\n",
       " 'Muhammed Ali',\n",
       " 'Muhammed Emin',\n",
       " 'Ensar Emin']"
      ]
     },
     "execution_count": 320,
     "metadata": {},
     "output_type": "execute_result"
    }
   ],
   "source": [
    "students"
   ]
  },
  {
   "cell_type": "code",
   "execution_count": 342,
   "id": "c3c2e455-92e4-4c6b-9922-4d1be19b3722",
   "metadata": {},
   "outputs": [
    {
     "name": "stdout",
     "output_type": "stream",
     "text": [
      "Muhammed Ali\n",
      "Muhammed Emin\n"
     ]
    }
   ],
   "source": [
    "for student in students:\n",
    "    if len(student) > 10:\n",
    "        print(student)"
   ]
  },
  {
   "cell_type": "code",
   "execution_count": 348,
   "id": "b1075ee0-ebd1-4815-abd6-d6e99388684b",
   "metadata": {},
   "outputs": [
    {
     "name": "stdout",
     "output_type": "stream",
     "text": [
      "0: Doğukan\n",
      "1: Atakan\n",
      "2: Hazal Asu\n",
      "3: Ekinsu\n",
      "4: Berke Kaan\n",
      "5: Ece Dilara\n",
      "6: Berker\n",
      "7: Yavuzhan\n",
      "8: Buse\n",
      "9: Nadide\n",
      "10: Muhammed Ali\n",
      "11: Muhammed Emin\n",
      "12: Ensar Emin\n"
     ]
    }
   ],
   "source": [
    "for index, student in enumerate(students):\n",
    "    print(f\"{index}: {student}\")"
   ]
  },
  {
   "cell_type": "code",
   "execution_count": 352,
   "id": "7c2732ac-d03e-41e4-80b5-ef9fc0f041b8",
   "metadata": {},
   "outputs": [
    {
     "data": {
      "text/plain": [
       "{'names': ['Doğukan', 'Ekinsu', 'Yavuzhan', 'Buse', 'Nadide']}"
      ]
     },
     "execution_count": 352,
     "metadata": {},
     "output_type": "execute_result"
    }
   ],
   "source": [
    "employees"
   ]
  },
  {
   "cell_type": "code",
   "execution_count": 354,
   "id": "1bc1d433-e9aa-4a21-8a4a-83a29a5e03d7",
   "metadata": {},
   "outputs": [
    {
     "name": "stdout",
     "output_type": "stream",
     "text": [
      "names\n",
      "['Doğukan', 'Ekinsu', 'Yavuzhan', 'Buse', 'Nadide']\n"
     ]
    }
   ],
   "source": [
    "for key, value in employees.items():\n",
    "    print(key)\n",
    "    print(value)"
   ]
  },
  {
   "cell_type": "markdown",
   "id": "02ea9f05-1e76-49de-85a4-f8f5e14e8d59",
   "metadata": {
    "jp-MarkdownHeadingCollapsed": true
   },
   "source": [
    "### Function"
   ]
  },
  {
   "cell_type": "code",
   "execution_count": 361,
   "id": "3459d8fb-5995-4bf6-af65-71e5b2d9e0c8",
   "metadata": {},
   "outputs": [],
   "source": [
    "def sum_values(a, b):\n",
    "    return a + b"
   ]
  },
  {
   "cell_type": "code",
   "execution_count": 363,
   "id": "aa7f1125-af9a-418b-ae77-6c9bade62632",
   "metadata": {},
   "outputs": [
    {
     "data": {
      "text/plain": [
       "15"
      ]
     },
     "execution_count": 363,
     "metadata": {},
     "output_type": "execute_result"
    }
   ],
   "source": [
    "sum_values(5, 10)"
   ]
  },
  {
   "cell_type": "markdown",
   "id": "5eb3e9ee-ecd5-4276-9357-3f1edab6a502",
   "metadata": {
    "jp-MarkdownHeadingCollapsed": true
   },
   "source": [
    "#### Built-in functions"
   ]
  },
  {
   "cell_type": "code",
   "execution_count": 366,
   "id": "26a11bbb-77bf-42d6-99e5-91a88ed8eb97",
   "metadata": {},
   "outputs": [
    {
     "data": {
      "text/plain": [
       "13"
      ]
     },
     "execution_count": 366,
     "metadata": {},
     "output_type": "execute_result"
    }
   ],
   "source": [
    "len(students)"
   ]
  },
  {
   "cell_type": "code",
   "execution_count": 368,
   "id": "a997cd83-a1e4-44b1-80d9-c3143ccf9b5a",
   "metadata": {},
   "outputs": [
    {
     "data": {
      "text/plain": [
       "1000"
      ]
     },
     "execution_count": 368,
     "metadata": {},
     "output_type": "execute_result"
    }
   ],
   "source": [
    "max(numbers)"
   ]
  },
  {
   "cell_type": "code",
   "execution_count": 370,
   "id": "f6265912-aaf5-4393-a009-887709a18cd5",
   "metadata": {},
   "outputs": [
    {
     "data": {
      "text/plain": [
       "-6"
      ]
     },
     "execution_count": 370,
     "metadata": {},
     "output_type": "execute_result"
    }
   ],
   "source": [
    "min(numbers)"
   ]
  },
  {
   "cell_type": "code",
   "execution_count": 372,
   "id": "ae811a05-34ab-4e01-9c91-2e01db0cea06",
   "metadata": {},
   "outputs": [
    {
     "data": {
      "text/plain": [
       "list"
      ]
     },
     "execution_count": 372,
     "metadata": {},
     "output_type": "execute_result"
    }
   ],
   "source": [
    "type(students)"
   ]
  },
  {
   "cell_type": "code",
   "execution_count": 380,
   "id": "98129296-203e-4633-8758-68736c08e985",
   "metadata": {},
   "outputs": [
    {
     "name": "stdout",
     "output_type": "stream",
     "text": [
      "1\n",
      "3\n",
      "5\n",
      "7\n",
      "9\n"
     ]
    }
   ],
   "source": [
    "for i in range(1, 10, 2): print(i)"
   ]
  },
  {
   "cell_type": "markdown",
   "id": "9e75ba58-836f-489c-b4d6-7279f7d0a819",
   "metadata": {},
   "source": [
    "### Module"
   ]
  },
  {
   "cell_type": "markdown",
   "id": "e0792615-59e7-41a1-9a61-bcfcdfb02972",
   "metadata": {},
   "source": [
    "#### OS Module"
   ]
  },
  {
   "cell_type": "code",
   "execution_count": 384,
   "id": "20c2a70f-c225-4f7e-a6ee-f0b0b76728cb",
   "metadata": {},
   "outputs": [],
   "source": [
    "import os"
   ]
  },
  {
   "cell_type": "code",
   "execution_count": 386,
   "id": "add3a1df-d740-44ce-92f1-2ae4e2019f93",
   "metadata": {},
   "outputs": [
    {
     "data": {
      "text/plain": [
       "'C:\\\\Users\\\\doguk\\\\Desktop\\\\python-for-data-science'"
      ]
     },
     "execution_count": 386,
     "metadata": {},
     "output_type": "execute_result"
    }
   ],
   "source": [
    "os.getcwd()"
   ]
  },
  {
   "cell_type": "code",
   "execution_count": 388,
   "id": "e1b303c0-1140-40ab-a72d-85df5e3101cd",
   "metadata": {},
   "outputs": [
    {
     "data": {
      "text/plain": [
       "['.git', '.ipynb_checkpoints', 'Python Basics.ipynb']"
      ]
     },
     "execution_count": 388,
     "metadata": {},
     "output_type": "execute_result"
    }
   ],
   "source": [
    "os.listdir()"
   ]
  },
  {
   "cell_type": "code",
   "execution_count": 390,
   "id": "e0ee1734-c8a1-45cc-8296-b37d571a4963",
   "metadata": {},
   "outputs": [],
   "source": [
    "os.makedirs(\"New Folder\")"
   ]
  },
  {
   "cell_type": "code",
   "execution_count": 392,
   "id": "4ee8c2dd-f274-4cfe-bc82-3a6e1469920c",
   "metadata": {},
   "outputs": [
    {
     "data": {
      "text/plain": [
       "['.git', '.ipynb_checkpoints', 'New Folder', 'Python Basics.ipynb']"
      ]
     },
     "execution_count": 392,
     "metadata": {},
     "output_type": "execute_result"
    }
   ],
   "source": [
    "os.listdir()"
   ]
  }
 ],
 "metadata": {
  "kernelspec": {
   "display_name": "Python [conda env:base] *",
   "language": "python",
   "name": "conda-base-py"
  },
  "language_info": {
   "codemirror_mode": {
    "name": "ipython",
    "version": 3
   },
   "file_extension": ".py",
   "mimetype": "text/x-python",
   "name": "python",
   "nbconvert_exporter": "python",
   "pygments_lexer": "ipython3",
   "version": "3.12.7"
  }
 },
 "nbformat": 4,
 "nbformat_minor": 5
}
